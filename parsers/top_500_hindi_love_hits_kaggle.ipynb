{
 "cells": [
  {
   "cell_type": "code",
   "execution_count": null,
   "metadata": {
    "vscode": {
     "languageId": "plaintext"
    }
   },
   "outputs": [],
   "source": [
    "# source - https://www.kaggle.com/datasets/chandankr014/top-500-hindi-love-hits-1980-till/\n",
    "import pandas as pd\n",
    "import parser_configs\n",
    "\n",
    "# Load the data\n",
    "\n",
    "source = parser_configs.kaggle_top_500_hits_raw\n",
    "data = pd.read_csv(source)\n",
    "data.head()"
   ]
  },
  {
   "cell_type": "code",
   "execution_count": null,
   "metadata": {
    "vscode": {
     "languageId": "plaintext"
    }
   },
   "outputs": [],
   "source": [
    "new_df = data[['Track Name', 'Album', 'Duration (ms)', 'Artist Genres' , 'Artist Name' ]]\n",
    "new_df.head()"
   ]
  },
  {
   "cell_type": "code",
   "execution_count": null,
   "metadata": {
    "vscode": {
     "languageId": "plaintext"
    }
   },
   "outputs": [],
   "source": [
    "new_df.rename(columns={'Track Name': 'track_name', 'Album': 'album', 'Duration (ms)': 'duration', 'Artist Name': 'singer_list', 'Artist Genres': 'categories_list'}, inplace=True)\n",
    "new_df.head()"
   ]
  },
  {
   "cell_type": "code",
   "execution_count": null,
   "metadata": {
    "vscode": {
     "languageId": "plaintext"
    }
   },
   "outputs": [],
   "source": [
    "# reformat as - {track_name}|{album}|{release}|{duration}|{categories_list}|{music_dirs_list}|{singer_list}|{writers_list}|{actors_list}\n",
    "new_df.insert(2, 'release', '')\n",
    "new_df.insert(5, 'music_dirs_list', '')\n",
    "new_df.insert(7, 'writers_list', '')\n",
    "new_df.insert(8, 'actors_list', '')\n",
    "\n",
    "new_df.head()"
   ]
  },
  {
   "cell_type": "code",
   "execution_count": null,
   "metadata": {
    "vscode": {
     "languageId": "plaintext"
    }
   },
   "outputs": [],
   "source": [
    "new_df['duration'] = new_df['duration'].apply(lambda x: int(x//1000))\n",
    "new_df.tail()"
   ]
  },
  {
   "cell_type": "code",
   "execution_count": null,
   "metadata": {
    "vscode": {
     "languageId": "plaintext"
    }
   },
   "outputs": [],
   "source": [
    "def format_categories_list(x):\n",
    "    if x == '':\n",
    "        return ''\n",
    "    if x[0] == '[':\n",
    "        x = x[1:]\n",
    "    if x[-1] == ']':\n",
    "        x = x[:-1]\n",
    "    x = x.replace('\\\"', '')\n",
    "    return x\n",
    "\n",
    "#     if x == '[]':\n",
    "#         return ''\n",
    "#     else:\n",
    "#         x = x.replace('\\'', '').replace('[', '').replace(']', '')\n",
    "new_df['categories_list'] = new_df['categories_list'].apply(lambda x: format_categories_list(str(x)))\n",
    "new_df.head()"
   ]
  },
  {
   "cell_type": "code",
   "execution_count": null,
   "metadata": {
    "vscode": {
     "languageId": "plaintext"
    }
   },
   "outputs": [],
   "source": [
    "# write the data to a file\n",
    "new_df.to_csv(parser_configs.kaggle_top_500_hits_parsed, index=False, sep='|')"
   ]
  }
 ],
 "metadata": {
  "language_info": {
   "name": "python"
  }
 },
 "nbformat": 4,
 "nbformat_minor": 2
}
