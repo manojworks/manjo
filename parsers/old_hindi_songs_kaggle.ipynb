{
 "cells": [
  {
   "cell_type": "code",
   "execution_count": null,
   "metadata": {
    "vscode": {
     "languageId": "plaintext"
    }
   },
   "outputs": [],
   "source": [
    "# source - https://www.kaggle.com/datasets/dataliteracytutorial/youtube-kpi-of-popular-old-hindi-songs\n",
    "import pandas as pd\n",
    "import parser_configs\n",
    "\n",
    "# Load the data\n",
    "source = parser_configs.kaggle_old_hindi_raw\n",
    "data = pd.read_csv(source)\n",
    "data.head()"
   ]
  },
  {
   "cell_type": "code",
   "execution_count": null,
   "metadata": {
    "vscode": {
     "languageId": "plaintext"
    }
   },
   "outputs": [],
   "source": [
    "new_df = data[['Song Title', 'Movie', 'Singer', 'Lead Actor']]\n",
    "new_df.head()"
   ]
  },
  {
   "cell_type": "code",
   "execution_count": null,
   "metadata": {
    "vscode": {
     "languageId": "plaintext"
    }
   },
   "outputs": [],
   "source": [
    "new_df.rename(columns={'Song Title': 'track_name', 'Movie': 'album', 'Singer': 'singer_list', 'Lead Actor': 'actor_list'}, inplace=True)\n",
    "new_df.head()"
   ]
  },
  {
   "cell_type": "code",
   "execution_count": null,
   "metadata": {
    "vscode": {
     "languageId": "plaintext"
    }
   },
   "outputs": [],
   "source": [
    "# reformat as - {track_name}|{album}|{release}|{duration}|{categories_list}|{music_dirs_list}|{singer_list}|{writers_list}|{actors_list}\n",
    "new_df.insert(2, 'release', '')\n",
    "new_df.insert(3, 'duration', '')\n",
    "new_df.insert(4, 'categories_list', '')\n",
    "new_df.insert(5, 'music_dirs_list', '')\n",
    "new_df.insert(7, 'writers_list', '')\n",
    "\n",
    "new_df.head()"
   ]
  },
  {
   "cell_type": "code",
   "execution_count": null,
   "metadata": {
    "vscode": {
     "languageId": "plaintext"
    }
   },
   "outputs": [],
   "source": [
    "# write the data to a file\n",
    "new_df.to_csv(parser_configs.kaggle_old_hindi_parsed, index=False, sep='|')"
   ]
  }
 ],
 "metadata": {
  "language_info": {
   "name": "python"
  }
 },
 "nbformat": 4,
 "nbformat_minor": 2
}
