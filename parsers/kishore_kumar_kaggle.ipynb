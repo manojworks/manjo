{
 "cells": [
  {
   "cell_type": "code",
   "execution_count": null,
   "metadata": {},
   "outputs": [],
   "source": [
    "import pandas as pd\n",
    "import parser_configs\n",
    "\n",
    "source = parser_configs.kaggle_kishore_kumar_300_raw\n",
    "data = pd.read_csv(source)\n",
    "data.head()"
   ]
  },
  {
   "cell_type": "code",
   "execution_count": null,
   "metadata": {},
   "outputs": [],
   "source": [
    "new_df = data[['Song Title ', 'Movie', 'Year of release' , 'Music director', 'Singers']]\n",
    "new_df.head()"
   ]
  },
  {
   "cell_type": "code",
   "execution_count": null,
   "metadata": {},
   "outputs": [],
   "source": [
    "new_df.rename(columns={'Song Title ': 'track_name', 'Movie': 'album', 'Year of release': 'release', 'Music director': 'music_dirs_list', 'Singers': 'singer_list'}, inplace=True)\n",
    "new_df.head()"
   ]
  },
  {
   "cell_type": "code",
   "execution_count": null,
   "metadata": {},
   "outputs": [],
   "source": [
    "# reformat as - {track_name}|{album}|{release}|{duration}|{categories_list}|{music_dirs_list}|{singer_list}|{writers_list}|{actors_list}\n",
    "new_df.insert(3, 'duration', '')\n",
    "new_df.insert(4, 'categories_list', '')\n",
    "new_df.insert(7, 'writers_list', '')\n",
    "new_df.insert(8, 'actors_list', '')\n",
    "\n",
    "new_df.head()"
   ]
  },
  {
   "cell_type": "code",
   "execution_count": null,
   "metadata": {},
   "outputs": [],
   "source": [
    "# update the obvious Kishor Kumar to Kishore Kumar in both singer and music director columns\n",
    "new_df['singer_list'] = new_df['singer_list'].str.title()\n",
    "new_df['singer_list'] = new_df['singer_list'].str.replace('Kishor Kumar', 'Kishore Kumar')\n",
    "new_df['music_dirs_list'] = new_df['music_dirs_list'].str.replace('Kishor Kumar', 'Kishore Kumar')\n",
    "new_df.head()"
   ]
  },
  {
   "cell_type": "code",
   "execution_count": null,
   "metadata": {},
   "outputs": [],
   "source": [
    "# in singer list, replace & with , and remove any extra spaces\n",
    "new_df['singer_list'] = new_df['singer_list'].str.replace('&', ',')\n",
    "new_df['singer_list'] = new_df['singer_list'].str.replace('  ', ' ')\n",
    "new_df.tail()"
   ]
  },
  {
   "cell_type": "code",
   "execution_count": null,
   "metadata": {},
   "outputs": [],
   "source": [
    "# in music director list, replace & with , and remove any extra spaces\n",
    "new_df['music_dirs_list'] = new_df['music_dirs_list'].str.title()\n",
    "new_df['music_dirs_list'] = new_df['music_dirs_list'].str.replace('&', ',')\n",
    "new_df['music_dirs_list'] = new_df['music_dirs_list'].str.replace('  ', ' ')\n",
    "new_df.tail()"
   ]
  },
  {
   "cell_type": "code",
   "execution_count": null,
   "metadata": {},
   "outputs": [],
   "source": [
    "# write the data to a file\n",
    "new_df.to_csv(parser_configs.kaggle_kishore_kumar_300_parsed, index=False, sep='|')"
   ]
  }
 ],
 "metadata": {
  "kernelspec": {
   "display_name": "Python 3",
   "language": "python",
   "name": "python3"
  },
  "language_info": {
   "codemirror_mode": {
    "name": "ipython",
    "version": 3
   },
   "file_extension": ".py",
   "mimetype": "text/x-python",
   "name": "python",
   "nbconvert_exporter": "python",
   "pygments_lexer": "ipython3",
   "version": "3.13.1"
  }
 },
 "nbformat": 4,
 "nbformat_minor": 2
}
